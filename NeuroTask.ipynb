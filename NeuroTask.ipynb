{
  "nbformat": 4,
  "nbformat_minor": 0,
  "metadata": {
    "colab": {
      "provenance": []
    },
    "kernelspec": {
      "name": "python3",
      "display_name": "Python 3"
    },
    "language_info": {
      "name": "python"
    }
  },
  "cells": [
    {
      "cell_type": "code",
      "execution_count": null,
      "metadata": {
        "id": "kI2FLkNk1WxW"
      },
      "outputs": [],
      "source": []
    },
    {
      "cell_type": "markdown",
      "source": [
        "Задача 1."
      ],
      "metadata": {
        "id": "xqx_Qd7D1g__"
      }
    },
    {
      "cell_type": "code",
      "source": [
        "#Решение\n",
        "#\n",
        "#\n",
        "import pandas as pd\n",
        "from sklearn.model_selection import train_test_split\n",
        "from sklearn.feature_extraction.text import TfidfVectorizer\n",
        "from sklearn.linear_model import PassiveAggressiveClassifier\n",
        "from sklearn.metrics import accuracy_score, confusion_matrix\n",
        "\n",
        "# Шаг 1: Загрузка данных\n",
        "url = 'https://storage.yandexcloud.net/academy.ai/practica/fake_news.csv'\n",
        "data = pd.read_csv(url)\n",
        "\n",
        "# Предположим, что столбец с текстом новости называется 'text', а столбец с меткой 'label'\n",
        "X = data['text']\n",
        "y = data['label']\n",
        "\n",
        "# Шаг 2: Разделение данных на обучающую и тестовую выборки\n",
        "X_train, X_test, y_train, y_test = train_test_split(X, y, test_size=0.2, random_state=42)\n",
        "\n",
        "# Шаг 3: Векторизация текста\n",
        "tfidf_vectorizer = TfidfVectorizer(stop_words='english', max_df=0.7)\n",
        "tfidf_train = tfidf_vectorizer.fit_transform(X_train)\n",
        "tfidf_test = tfidf_vectorizer.transform(X_test)\n",
        "\n",
        "# Шаг 4: Обучение модели\n",
        "pac = PassiveAggressiveClassifier(max_iter=50)\n",
        "pac.fit(tfidf_train, y_train)\n",
        "\n",
        "# Шаг 5: Оценка модели\n",
        "y_pred = pac.predict(tfidf_test)\n",
        "score = accuracy_score(y_test, y_pred)\n",
        "print(f'Точность: {round(score*100,2)}%')\n",
        "\n",
        "# Вывод матрицы ошибок\n",
        "confusion_matrix(y_test, y_pred, labels=['FAKE', 'REAL'])"
      ],
      "metadata": {
        "colab": {
          "base_uri": "https://localhost:8080/"
        },
        "id": "KSGmphH21jsM",
        "outputId": "81ca6e2c-814a-42ff-fb97-1e4e194d21c3"
      },
      "execution_count": null,
      "outputs": [
        {
          "output_type": "stream",
          "name": "stdout",
          "text": [
            "Точность: 93.69%\n"
          ]
        },
        {
          "output_type": "execute_result",
          "data": {
            "text/plain": [
              "array([[587,  41],\n",
              "       [ 39, 600]])"
            ]
          },
          "metadata": {},
          "execution_count": 1
        }
      ]
    },
    {
      "cell_type": "markdown",
      "source": [
        "Задача 2"
      ],
      "metadata": {
        "id": "oKjtVpx32KUF"
      }
    },
    {
      "cell_type": "code",
      "source": [
        "#Решение\n",
        "#\n",
        "#\n",
        "import pandas as pd\n",
        "from sklearn.model_selection import train_test_split\n",
        "from sklearn.preprocessing import StandardScaler\n",
        "from xgboost import XGBClassifier\n",
        "from sklearn.metrics import accuracy_score\n",
        "\n",
        "# Шаг 1: Загрузка данных\n",
        "url = 'https://storage.yandexcloud.net/academy.ai/practica/parkinsons.data'\n",
        "data = pd.read_csv(url)\n",
        "\n",
        "# Предположим, что последний столбец - это метка (status), а остальные - признаки\n",
        "X = data.drop(['name', 'status'], axis=1)\n",
        "y = data['status']\n",
        "\n",
        "# Шаг 2: Предобработка данных\n",
        "# Нормализация признаков\n",
        "scaler = StandardScaler()\n",
        "X_scaled = scaler.fit_transform(X)\n",
        "\n",
        "# Разделение данных на обучающую и тестовую выборки\n",
        "X_train, X_test, y_train, y_test = train_test_split(X_scaled, y, test_size=0.2, random_state=42)\n",
        "\n",
        "# Шаг 3: Обучение модели\n",
        "model = XGBClassifier()\n",
        "model.fit(X_train, y_train)\n",
        "\n",
        "# Шаг 4: Оценка модели\n",
        "y_pred = model.predict(X_test)\n",
        "accuracy = accuracy_score(y_test, y_pred)\n",
        "print(f'Точность модели: {round(accuracy*100, 2)}%')"
      ],
      "metadata": {
        "colab": {
          "base_uri": "https://localhost:8080/"
        },
        "id": "QpTGmpV52MFp",
        "outputId": "3a9d870b-70da-40ba-aab8-63d562724eb5"
      },
      "execution_count": null,
      "outputs": [
        {
          "output_type": "stream",
          "name": "stdout",
          "text": [
            "Точность модели: 94.87%\n"
          ]
        }
      ]
    }
  ]
}